{
 "cells": [
  {
   "cell_type": "code",
   "execution_count": null,
   "metadata": {},
   "outputs": [],
   "source": [
    "import pandas as pd\n",
    "import requests\n",
    "\n",
    "# Método para obtener la información del juego\n",
    "def obtener_tags_juego(app_id):\n",
    "    url = f\"http://store.steampowered.com/api/appdetails?appids={app_id}\"\n",
    "    try:\n",
    "        respuesta = requests.get(url, timeout=10)  # Timeout de 10 segundos\n",
    "        respuesta.raise_for_status()  # Lanzar una excepción para errores HTTP\n",
    "        detalles_juego = respuesta.json().get(str(app_id), {})\n",
    "        if 'success' in detalles_juego and detalles_juego['success'] is False:\n",
    "            print(f\"No se pudo obtener información para el juego con ID {app_id}.\")\n",
    "            return [], []\n",
    "        if 'data' in detalles_juego:\n",
    "            generos = [genero['description'] for genero in detalles_juego['data'].get('genres', [])]\n",
    "            categorias = [categoria['description'] for categoria in detalles_juego['data'].get('categories', [])]\n",
    "            return generos, categorias\n",
    "    except requests.exceptions.RequestException as e:\n",
    "        print(f\"Error al realizar la solicitud para el juego con ID {app_id}: {e}\")\n",
    "\n",
    "    return [], []\n",
    "\n",
    "# Leer el archivo CSV completo\n",
    "df_csv = pd.read_csv(\"/content/sample_data/respuestasA (2400-158113).csv\")\n",
    "\n",
    "# Crear columnas para Géneros y Categorías\n",
    "df_csv['Géneros'] = \"\"\n",
    "df_csv['Categorías'] = \"\"\n",
    "\n",
    "# Contador para el número de ejecuciones\n",
    "num_ejecuciones = 0\n",
    "\n",
    "# Iterar sobre la columna \"ID del juego\" y obtener las tags para cada juego\n",
    "for index, row in df_csv.iterrows():\n",
    "    num_ejecuciones += 1\n",
    "    app_id = row['ID del juego']\n",
    "    generos, categorias = obtener_tags_juego(app_id)\n",
    "    if not generos and not categorias:\n",
    "        print(f\"No se obtuvieron tags para el juego con ID {app_id}.\")\n",
    "    else:\n",
    "        df_csv.at[index, 'Géneros'] = ', '.join(generos)\n",
    "        df_csv.at[index, 'Categorías'] = ', '.join(categorias)\n",
    "        # Guardar el DataFrame actualizado con las nuevas columnas después de cada iteración\n",
    "        df_csv.to_csv(f\"/content/sample_data/respuestasA_con_tags_{num_ejecuciones}.csv\", index=False)\n",
    "\n",
    "print(f\"Se han procesado {num_ejecuciones} juegos.\")\n"
   ]
  }
 ],
 "metadata": {
  "language_info": {
   "name": "python"
  }
 },
 "nbformat": 4,
 "nbformat_minor": 2
}
