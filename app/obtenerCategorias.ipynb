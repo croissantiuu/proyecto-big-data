{
 "cells": [
  {
   "cell_type": "code",
   "execution_count": 1,
   "metadata": {},
   "outputs": [],
   "source": [
    "import requests\n",
    "import time\n",
    "import pandas as pd  # Agregar esta línea"
   ]
  },
  {
   "cell_type": "code",
   "execution_count": 9,
   "metadata": {},
   "outputs": [],
   "source": [
    "df_csv = pd.read_csv(\"D:/s4nti/Documents/OCTAVO SEMESTRE/PROYECTO INTEGRADOR DE TECNOLOGÍAS DE BIG DATA/PROYECTO/proyecto-big-data/app/ArchivoFinal.csv\")"
   ]
  },
  {
   "cell_type": "code",
   "execution_count": 10,
   "metadata": {},
   "outputs": [
    {
     "data": {
      "text/html": [
       "<div>\n",
       "<style scoped>\n",
       "    .dataframe tbody tr th:only-of-type {\n",
       "        vertical-align: middle;\n",
       "    }\n",
       "\n",
       "    .dataframe tbody tr th {\n",
       "        vertical-align: top;\n",
       "    }\n",
       "\n",
       "    .dataframe thead th {\n",
       "        text-align: right;\n",
       "    }\n",
       "</style>\n",
       "<table border=\"1\" class=\"dataframe\">\n",
       "  <thead>\n",
       "    <tr style=\"text-align: right;\">\n",
       "      <th></th>\n",
       "      <th>Unnamed: 0</th>\n",
       "      <th>ID del juego</th>\n",
       "      <th>Géneros</th>\n",
       "      <th>Categorías</th>\n",
       "      <th>Fecha de Lanzamiento</th>\n",
       "      <th>Fecha</th>\n",
       "      <th>Dias_Pasados</th>\n",
       "    </tr>\n",
       "  </thead>\n",
       "  <tbody>\n",
       "    <tr>\n",
       "      <th>0</th>\n",
       "      <td>0</td>\n",
       "      <td>461640</td>\n",
       "      <td>Action, Adventure, Indie, RPG</td>\n",
       "      <td>Single-player, Steam Achievements, Full contro...</td>\n",
       "      <td>NaN</td>\n",
       "      <td>-1</td>\n",
       "      <td>2457</td>\n",
       "    </tr>\n",
       "    <tr>\n",
       "      <th>1</th>\n",
       "      <td>1</td>\n",
       "      <td>730</td>\n",
       "      <td>Action, Free to Play</td>\n",
       "      <td>Multi-player, Cross-Platform Multiplayer, Stea...</td>\n",
       "      <td>NaN</td>\n",
       "      <td>-1</td>\n",
       "      <td>2457</td>\n",
       "    </tr>\n",
       "    <tr>\n",
       "      <th>2</th>\n",
       "      <td>2</td>\n",
       "      <td>578080</td>\n",
       "      <td>Action, Adventure, Massively Multiplayer, Free...</td>\n",
       "      <td>Multi-player, PvP, Online PvP, Stats, Remote P...</td>\n",
       "      <td>NaN</td>\n",
       "      <td>-1</td>\n",
       "      <td>2457</td>\n",
       "    </tr>\n",
       "    <tr>\n",
       "      <th>3</th>\n",
       "      <td>3</td>\n",
       "      <td>570</td>\n",
       "      <td>Action, Strategy, Free to Play</td>\n",
       "      <td>Multi-player, Co-op, Steam Trading Cards, Stea...</td>\n",
       "      <td>NaN</td>\n",
       "      <td>-1</td>\n",
       "      <td>2457</td>\n",
       "    </tr>\n",
       "    <tr>\n",
       "      <th>4</th>\n",
       "      <td>4</td>\n",
       "      <td>42690</td>\n",
       "      <td>NaN</td>\n",
       "      <td>NaN</td>\n",
       "      <td>NaN</td>\n",
       "      <td>-1</td>\n",
       "      <td>2457</td>\n",
       "    </tr>\n",
       "  </tbody>\n",
       "</table>\n",
       "</div>"
      ],
      "text/plain": [
       "   Unnamed: 0  ID del juego  \\\n",
       "0           0        461640   \n",
       "1           1           730   \n",
       "2           2        578080   \n",
       "3           3           570   \n",
       "4           4         42690   \n",
       "\n",
       "                                             Géneros  \\\n",
       "0                      Action, Adventure, Indie, RPG   \n",
       "1                               Action, Free to Play   \n",
       "2  Action, Adventure, Massively Multiplayer, Free...   \n",
       "3                     Action, Strategy, Free to Play   \n",
       "4                                                NaN   \n",
       "\n",
       "                                          Categorías Fecha de Lanzamiento  \\\n",
       "0  Single-player, Steam Achievements, Full contro...                  NaN   \n",
       "1  Multi-player, Cross-Platform Multiplayer, Stea...                  NaN   \n",
       "2  Multi-player, PvP, Online PvP, Stats, Remote P...                  NaN   \n",
       "3  Multi-player, Co-op, Steam Trading Cards, Stea...                  NaN   \n",
       "4                                                NaN                  NaN   \n",
       "\n",
       "  Fecha  Dias_Pasados  \n",
       "0    -1          2457  \n",
       "1    -1          2457  \n",
       "2    -1          2457  \n",
       "3    -1          2457  \n",
       "4    -1          2457  "
      ]
     },
     "execution_count": 10,
     "metadata": {},
     "output_type": "execute_result"
    }
   ],
   "source": [
    "df_csv.head()"
   ]
  },
  {
   "cell_type": "code",
   "execution_count": 17,
   "metadata": {},
   "outputs": [
    {
     "name": "stdout",
     "output_type": "stream",
     "text": [
      "{'Software Training': 0, 'Aventura': 1, 'Violent': 2, 'MMO': 3, 'Gore': 4, 'Early Access': 5, 'Design & Illustration': 6, 'Video Production': 7, 'シミュレーション': 8, 'Racing': 9, 'Photo Editing': 10, 'Nudity': 11, 'アクション': 12, 'Utilities': 13, '早期アクセス': 14, 'Sports': 15, 'Rollenspiel': 16, 'RPG': 17, 'Экшены': 18, 'Casual': 19, 'Приключенческие игры': 20, 'Adventure': 21, 'Strategie': 22, 'Ação': 23, 'Audio Production': 24, 'カジュアル': 25, 'Sexual Content': 26, 'Kostenlos': 27, 'アドベンチャー': 28, 'ストラテジー': 29, 'Indie': 30, 'Simulation': 31, 'Simulationen': 32, 'Симуляторы': 33, 'Стратегии': 34, 'インディー': 35, 'Strategy': 36, 'Web Publishing': 37, 'Game Development': 38, 'Action': 39, 'Animation & Modeling': 40, 'Massively Multiplayer': 41, 'Free to Play': 42, 'Aktion': 43, 'Education': 44, 'MM（Massively Multiplayer）': 45}\n"
     ]
    }
   ],
   "source": [
    "# Supongamos que tu DataFrame se llama df y la columna con las categorías se llama 'categorias'\n",
    "generos = df_csv['Géneros'].dropna().str.split(', ')\n",
    "\n",
    "# Creamos un set para almacenar las categorías únicas\n",
    "generos_unicos = set(x for l in generos for x in l)\n",
    "\n",
    "# Creamos un diccionario para asignar a cada categoría un valor único\n",
    "diccionario_generos = {genero: i for i, genero in enumerate(generos_unicos)}\n",
    "\n",
    "# Si quieres ignorar las categorías 'Single-player' y 'Multi-player'\n",
    "# if 'Single-player' in diccionario_generos:\n",
    "#     del diccionario_generos['Single-player']\n",
    "# if 'Multi-player' in diccionario_generos:\n",
    "#     del diccionario_generos['Multi-player']\n",
    "\n",
    "print(diccionario_generos)\n"
   ]
  },
  {
   "cell_type": "code",
   "execution_count": 18,
   "metadata": {},
   "outputs": [
    {
     "name": "stdout",
     "output_type": "stream",
     "text": [
      "El diccionario ha sido exportado a un archivo JSON.\n"
     ]
    }
   ],
   "source": [
    "import json\n",
    "\n",
    "# Supongamos que tu diccionario se llama diccionario_actualizado\n",
    "with open('diccionario.json', 'w') as f:\n",
    "    json.dump(diccionario_generos, f)\n",
    "\n",
    "print(\"El diccionario ha sido exportado a un archivo JSON.\")\n"
   ]
  },
  {
   "cell_type": "code",
   "execution_count": 19,
   "metadata": {},
   "outputs": [
    {
     "name": "stdout",
     "output_type": "stream",
     "text": [
      "{'Software Training': 0, 'Aventura': 1, 'Violent': 2, 'MMO': 3, 'Gore': 4, 'Early Access': 5, 'Design & Illustration': 6, 'Video Production': 7, 'シミュレーション': 8, 'Racing': 9, 'Photo Editing': 10, 'Nudity': 11, 'アクション': 12, 'Utilities': 13, '早期アクセス': 14, 'Sports': 15, 'Rollenspiel': 16, 'RPG': 17, 'Экшены': 18, 'Casual': 19, 'Приключенческие игры': 20, 'Adventure': 21, 'Strategie': 22, 'Ação': 23, 'Audio Production': 24, 'カジュアル': 25, 'Sexual Content': 26, 'Kostenlos': 27, 'アドベンチャー': 28, 'ストラテジー': 29, 'Indie': 30, 'Simulation': 31, 'Simulationen': 32, 'Симуляторы': 33, 'Стратегии': 34, 'インディー': 35, 'Strategy': 36, 'Web Publishing': 37, 'Game Development': 38, 'Action': 39, 'Animation & Modeling': 40, 'Massively Multiplayer': 41, 'Free to Play': 42, 'Aktion': 43, 'Education': 44, 'MM（Massively Multiplayer）': 45}\n"
     ]
    }
   ],
   "source": [
    "# Abre el archivo en modo de lectura\n",
    "with open('diccionario.json', 'r') as archivo_json:\n",
    "    diccionario = json.load(archivo_json)\n",
    "\n",
    "# Ahora puedes usar 'diccionario' como un diccionario normal en Python\n",
    "print(diccionario)\n"
   ]
  },
  {
   "cell_type": "code",
   "execution_count": null,
   "metadata": {},
   "outputs": [],
   "source": [
    "#Ustedes corran el cueaderno desde acá\n",
    "\n",
    "#Su archivo:\n",
    "df_csv = pd.read_csv(\"\")\n"
   ]
  },
  {
   "cell_type": "code",
   "execution_count": null,
   "metadata": {},
   "outputs": [],
   "source": [
    "# Abre el archivo de diccionario actual en modo de lectura\n",
    "with open('diccionario.json', 'r') as archivo_json:\n",
    "    diccionario_actual = json.load(archivo_json)"
   ]
  },
  {
   "cell_type": "code",
   "execution_count": null,
   "metadata": {},
   "outputs": [],
   "source": [
    "nuevos_generos = df_csv['Géneros'].dropna().str.split(', ')\n"
   ]
  },
  {
   "cell_type": "code",
   "execution_count": null,
   "metadata": {},
   "outputs": [],
   "source": [
    "def agregar_categorias(diccionario_actual, nuevos_generos):\n",
    "    # Obtenemos el índice inicial para las nuevas categorías\n",
    "    indice_inicial = len(diccionario_actual)\n",
    "\n",
    "    # Creamos un set para almacenar las categorías únicas\n",
    "    categorias_unicas = set(nuevos_generos)\n",
    "\n",
    "    # Creamos un diccionario para asignar a cada nueva categoría un valor único\n",
    "    diccionario_nuevos_generos = {categoria: i+indice_inicial for i, categoria in enumerate(categorias_unicas)}\n",
    "\n",
    "    # Unimos los dos diccionarios\n",
    "    diccionario_actualizado = {**diccionario_actual, **diccionario_nuevos_generos}\n",
    "\n",
    "    return diccionario_actualizado\n",
    "\n",
    "# Ejemplo de uso:\n",
    "diccionario_actualizado = agregar_categorias(diccionario_generos, nuevos_generos)\n",
    "\n",
    "print(diccionario_actualizado)\n"
   ]
  },
  {
   "cell_type": "code",
   "execution_count": null,
   "metadata": {},
   "outputs": [],
   "source": [
    "#Exportar nuevo diccionario\n",
    "\n",
    "with open('diccionario_actualizado.json', 'w') as f:\n",
    "    json.dump(diccionario_generos, f)\n",
    "\n",
    "print(\"El diccionario actualizado ha sido exportado a un archivo JSON.\")"
   ]
  }
 ],
 "metadata": {
  "kernelspec": {
   "display_name": "Python 3",
   "language": "python",
   "name": "python3"
  },
  "language_info": {
   "codemirror_mode": {
    "name": "ipython",
    "version": 3
   },
   "file_extension": ".py",
   "mimetype": "text/x-python",
   "name": "python",
   "nbconvert_exporter": "python",
   "pygments_lexer": "ipython3",
   "version": "3.9.4"
  }
 },
 "nbformat": 4,
 "nbformat_minor": 2
}
