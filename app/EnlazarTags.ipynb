{
 "cells": [
  {
   "cell_type": "code",
   "execution_count": 3,
   "metadata": {},
   "outputs": [],
   "source": [
    "import pandas as pd\n",
    "\n",
    "# Leer los archivos de géneros y categorías\n",
    "archivo1 = pd.read_csv(\"C:/Users/oem/Videos/Steam Big Data 110324/proyecto-big-data/data/TagsConseguidos/AdriFull.csv\")\n",
    "archivo2 = pd.read_csv(\"C:/Users/oem/Videos/Steam Big Data 110324/proyecto-big-data/data/TagsConseguidos/gameTags_roy.csv\")\n",
    "archivo3 = pd.read_csv(\"C:/Users/oem/Videos/Steam Big Data 110324/proyecto-big-data/data/TagsConseguidos/gameTags.csv\")\n",
    "\n",
    "# Leer el archivo de respuestas\n",
    "respuestas_A = pd.read_csv(\"C:/Users/oem/Videos/Steam Big Data 110324/proyecto-big-data/data/Principal/respuestasA (2400-158113).csv\")\n",
    "\n",
    "# Función para obtener géneros y categorías para un juego dado su ID\n",
    "def obtener_generos_categorias(id_juego):\n",
    "    for archivo in [archivo1, archivo2, archivo3]:\n",
    "        fila = archivo[archivo['ID del juego'] == id_juego]\n",
    "        if not fila.empty:\n",
    "            return fila.iloc[0]['Géneros'], fila.iloc[0]['Categorías']\n",
    "    return None, None\n",
    "\n",
    "# Añadir columnas para géneros y categorías a respuestas_A\n",
    "respuestas_A['Géneros'] = \"\"\n",
    "respuestas_A['Categorías'] = \"\"\n",
    "\n",
    "# Iterar sobre las respuestas\n",
    "for index, row in respuestas_A.iterrows():\n",
    "    id_juego = row['ID del juego']\n",
    "    generos, categorias = obtener_generos_categorias(id_juego)\n",
    "    if generos is not None and categorias is not None:\n",
    "        respuestas_A.at[index, 'Géneros'] = generos\n",
    "        respuestas_A.at[index, 'Categorías'] = categorias\n",
    "        respuestas_A.to_csv(\"respuestas_A_modificado.csv\", index=False)\n",
    "\n",
    "print(\"Proceso completado. Los cambios se han guardado en tiempo real.\")\n",
    "# Guardar el archivo modificado\n",
    "#respuestas_A.to_csv(\"respuestas_A_modificado.csv\", index=False)\n"
   ]
  },
  {
   "cell_type": "code",
   "execution_count": 1,
   "metadata": {},
   "outputs": [
    {
     "name": "stderr",
     "output_type": "stream",
     "text": [
      "C:\\Users\\oem\\AppData\\Local\\Temp\\ipykernel_25728\\2686140589.py:1: DeprecationWarning: \n",
      "Pyarrow will become a required dependency of pandas in the next major release of pandas (pandas 3.0),\n",
      "(to allow more performant data types, such as the Arrow string type, and better interoperability with other libraries)\n",
      "but was not found to be installed on your system.\n",
      "If this would cause problems for you,\n",
      "please provide us feedback at https://github.com/pandas-dev/pandas/issues/54466\n",
      "        \n",
      "  import pandas as pd\n"
     ]
    },
    {
     "name": "stdout",
     "output_type": "stream",
     "text": [
      "Proceso completado. Los cambios se han guardado en tiempo real.\n"
     ]
    }
   ],
   "source": [
    "import pandas as pd\n",
    "\n",
    "# Leer los archivos de géneros y categorías\n",
    "archivo1 = pd.read_csv(\"C:/Users/oem/Videos/Steam Big Data 110324/proyecto-big-data/data/TagsConseguidos/AdriFull.csv\")\n",
    "archivo2 = pd.read_csv(\"C:/Users/oem/Videos/Steam Big Data 110324/proyecto-big-data/data/TagsConseguidos/gameTags_roy.csv\")\n",
    "archivo3 = pd.read_csv(\"C:/Users/oem/Videos/Steam Big Data 110324/proyecto-big-data/data/TagsConseguidos/gameTags.csv\")\n",
    "\n",
    "# Concatenar los archivos en uno solo\n",
    "tags_data = pd.concat([archivo1, archivo2, archivo3])\n",
    "\n",
    "# Leer el archivo de respuestas\n",
    "respuestas_A = pd.read_csv(\"C:/Users/oem/Videos/Steam Big Data 110324/proyecto-big-data/data/Principal/respuestasA (2400-158113).csv\")\n",
    "\n",
    "# Realizar la fusión (merge) de los datos\n",
    "respuestas_A = respuestas_A.merge(tags_data, how='left', on='ID del juego')\n",
    "\n",
    "# Guardar el archivo modificado\n",
    "respuestas_A.to_csv(\"respuestas_A_modificado.csv\", index=False)\n",
    "\n",
    "print(\"Proceso completado. Los cambios se han guardado en tiempo real.\")\n"
   ]
  }
 ],
 "metadata": {
  "kernelspec": {
   "display_name": "Python 3",
   "language": "python",
   "name": "python3"
  },
  "language_info": {
   "codemirror_mode": {
    "name": "ipython",
    "version": 3
   },
   "file_extension": ".py",
   "mimetype": "text/x-python",
   "name": "python",
   "nbconvert_exporter": "python",
   "pygments_lexer": "ipython3",
   "version": "3.11.8"
  }
 },
 "nbformat": 4,
 "nbformat_minor": 2
}
