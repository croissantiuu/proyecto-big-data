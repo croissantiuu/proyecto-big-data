{
 "cells": [
  {
   "cell_type": "code",
   "execution_count": 3,
   "metadata": {},
   "outputs": [
    {
     "ename": "ModuleNotFoundError",
     "evalue": "No module named 'firebase_admin'",
     "output_type": "error",
     "traceback": [
      "\u001b[1;31m---------------------------------------------------------------------------\u001b[0m",
      "\u001b[1;31mModuleNotFoundError\u001b[0m                       Traceback (most recent call last)",
      "Input \u001b[1;32mIn [3]\u001b[0m, in \u001b[0;36m<cell line: 1>\u001b[1;34m()\u001b[0m\n\u001b[1;32m----> 1\u001b[0m \u001b[38;5;28;01mimport\u001b[39;00m \u001b[38;5;21;01mfirebase_admin\u001b[39;00m\n\u001b[0;32m      2\u001b[0m \u001b[38;5;28;01mfrom\u001b[39;00m \u001b[38;5;21;01mfirebase_admin\u001b[39;00m \u001b[38;5;28;01mimport\u001b[39;00m credentials\n\u001b[0;32m      4\u001b[0m \u001b[38;5;66;03m# Carga las credenciales desde el archivo JSON\u001b[39;00m\n",
      "\u001b[1;31mModuleNotFoundError\u001b[0m: No module named 'firebase_admin'"
     ]
    }
   ],
   "source": [
    "import firebase_admin\n",
    "from firebase_admin import credentials\n",
    "\n",
    "# Carga las credenciales desde el archivo JSON\n",
    "cred = credentials.Certificate(\"C:/Users/oem/Videos/Steam Big Data 110324/proyecto-big-data/bigdata-videogames-firebase-adminsdk-zxmrf-0496fae5ff.json\")\n",
    "\n",
    "try:\n",
    "    # Inicializa la aplicación Firebase\n",
    "    firebase_admin.initialize_app(cred)\n",
    "    print(\"Conexión exitosa. Aplicación Firebase inicializada correctamente.\")\n",
    "except Exception as e:\n",
    "    print(f\"Error al inicializar la aplicación Firebase: {e}\")\n",
    "\n"
   ]
  },
  {
   "cell_type": "code",
   "execution_count": 2,
   "metadata": {},
   "outputs": [
    {
     "name": "stdout",
     "output_type": "stream",
     "text": [
      "Géneros:\n",
      "Action\n",
      "Indie\n",
      "Categorías:\n",
      "Single-player\n",
      "Multi-player\n",
      "Co-op\n",
      "Shared/Split Screen Co-op\n",
      "Shared/Split Screen\n",
      "Steam Achievements\n",
      "Full controller support\n",
      "Steam Trading Cards\n",
      "Steam Cloud\n",
      "Remote Play on Phone\n",
      "Remote Play on Tablet\n",
      "Remote Play on TV\n",
      "Remote Play Together\n",
      "Family Sharing\n"
     ]
    }
   ],
   "source": [
    "# Método para obtener la información del juego\n",
    "\n",
    "import requests \n",
    "def obtener_tags_juego(app_id):\n",
    "    url = f\"http://store.steampowered.com/api/appdetails?appids={app_id}\"\n",
    "    respuesta = requests.get(url)\n",
    "\n",
    "    if respuesta.status_code == 200:\n",
    "        detalles_juego = respuesta.json()[str(app_id)]['data']\n",
    "        if 'genres' in detalles_juego:\n",
    "            print(\"Géneros:\")\n",
    "            for genero in detalles_juego['genres']:\n",
    "                print(genero['description'])\n",
    "        if 'categories' in detalles_juego:\n",
    "            print(\"Categorías:\")\n",
    "            for categoria in detalles_juego['categories']:\n",
    "                print(categoria['description'])\n",
    "        if 'tags' in detalles_juego:\n",
    "            print(\"Tags:\")\n",
    "            for tag in detalles_juego['tags']:\n",
    "                print(tag)\n",
    "    else:\n",
    "        print(\"No se pudo obtener los tags del juego.\")\n",
    "\n",
    "obtener_tags_juego(268910)  # App ID de Cuphead"
   ]
  }
 ],
 "metadata": {
  "kernelspec": {
   "display_name": "Python 3",
   "language": "python",
   "name": "python3"
  },
  "language_info": {
   "codemirror_mode": {
    "name": "ipython",
    "version": 3
   },
   "file_extension": ".py",
   "mimetype": "text/x-python",
   "name": "python",
   "nbconvert_exporter": "python",
   "pygments_lexer": "ipython3",
   "version": "3.10.2"
  }
 },
 "nbformat": 4,
 "nbformat_minor": 2
}
