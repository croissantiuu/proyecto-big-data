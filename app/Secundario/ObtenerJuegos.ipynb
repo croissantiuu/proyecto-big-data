{
 "cells": [
  {
   "cell_type": "code",
   "execution_count": 1,
   "metadata": {},
   "outputs": [
    {
     "data": {
      "text/html": [
       "<div>\n",
       "<style scoped>\n",
       "    .dataframe tbody tr th:only-of-type {\n",
       "        vertical-align: middle;\n",
       "    }\n",
       "\n",
       "    .dataframe tbody tr th {\n",
       "        vertical-align: top;\n",
       "    }\n",
       "\n",
       "    .dataframe thead th {\n",
       "        text-align: right;\n",
       "    }\n",
       "</style>\n",
       "<table border=\"1\" class=\"dataframe\">\n",
       "  <thead>\n",
       "    <tr style=\"text-align: right;\">\n",
       "      <th></th>\n",
       "      <th>ID del jugador</th>\n",
       "      <th>ID del juego</th>\n",
       "      <th>Nombre del juego</th>\n",
       "      <th>Minutos jugadas</th>\n",
       "      <th>Datos_obtenidos</th>\n",
       "    </tr>\n",
       "  </thead>\n",
       "  <tbody>\n",
       "    <tr>\n",
       "      <th>0</th>\n",
       "      <td>76561198276551837</td>\n",
       "      <td>461640</td>\n",
       "      <td>Sins Of The Demon RPG</td>\n",
       "      <td>1</td>\n",
       "      <td>2400</td>\n",
       "    </tr>\n",
       "    <tr>\n",
       "      <th>1</th>\n",
       "      <td>76561198276551837</td>\n",
       "      <td>730</td>\n",
       "      <td>Counter-Strike 2</td>\n",
       "      <td>23</td>\n",
       "      <td>2400</td>\n",
       "    </tr>\n",
       "    <tr>\n",
       "      <th>2</th>\n",
       "      <td>76561198276551837</td>\n",
       "      <td>578080</td>\n",
       "      <td>PUBG: BATTLEGROUNDS</td>\n",
       "      <td>6</td>\n",
       "      <td>2400</td>\n",
       "    </tr>\n",
       "    <tr>\n",
       "      <th>3</th>\n",
       "      <td>76561198276551837</td>\n",
       "      <td>570</td>\n",
       "      <td>Dota 2</td>\n",
       "      <td>144250</td>\n",
       "      <td>2400</td>\n",
       "    </tr>\n",
       "    <tr>\n",
       "      <th>4</th>\n",
       "      <td>76561198162346285</td>\n",
       "      <td>42690</td>\n",
       "      <td>Call of Duty®: Modern Warfare® 3 (2011) - Mult...</td>\n",
       "      <td>174</td>\n",
       "      <td>2400</td>\n",
       "    </tr>\n",
       "  </tbody>\n",
       "</table>\n",
       "</div>"
      ],
      "text/plain": [
       "      ID del jugador  ID del juego  \\\n",
       "0  76561198276551837        461640   \n",
       "1  76561198276551837           730   \n",
       "2  76561198276551837        578080   \n",
       "3  76561198276551837           570   \n",
       "4  76561198162346285         42690   \n",
       "\n",
       "                                    Nombre del juego  Minutos jugadas  \\\n",
       "0                              Sins Of The Demon RPG                1   \n",
       "1                                   Counter-Strike 2               23   \n",
       "2                                PUBG: BATTLEGROUNDS                6   \n",
       "3                                             Dota 2           144250   \n",
       "4  Call of Duty®: Modern Warfare® 3 (2011) - Mult...              174   \n",
       "\n",
       "   Datos_obtenidos  \n",
       "0             2400  \n",
       "1             2400  \n",
       "2             2400  \n",
       "3             2400  \n",
       "4             2400  "
      ]
     },
     "execution_count": 1,
     "metadata": {},
     "output_type": "execute_result"
    }
   ],
   "source": [
    "import pandas as pd\n",
    "import requests\n",
    "\n",
    "df_juegos = pd.read_csv(\"D:/s4nti/Documents/OCTAVO SEMESTRE/PROYECTO INTEGRADOR DE TECNOLOGÍAS DE BIG DATA/PROYECTO/proyecto-big-data/data/respuestasA (2400-158113).csv\")\n",
    "\n",
    "df_juegos.head()"
   ]
  },
  {
   "cell_type": "code",
   "execution_count": 8,
   "metadata": {},
   "outputs": [],
   "source": [
    "# Asegúrate de que 'ID del juego' esté en formato string\n",
    "df_juegos['ID del juego'] = df_juegos['ID del juego'].astype(str)\n",
    "\n",
    "# Agrupa por 'ID del juego' y calcula la cantidad de usuarios por juego\n",
    "df_grouped = df_juegos.groupby('ID del juego').size().reset_index(name='cantidad_usuarios')\n",
    "\n",
    "df_grouped.to_csv(f\"D:/s4nti/Documents/OCTAVO SEMESTRE/PROYECTO INTEGRADOR DE TECNOLOGÍAS DE BIG DATA/PROYECTO/proyecto-big-data/data/gamesId.csv\", index=False)"
   ]
  }
 ],
 "metadata": {
  "kernelspec": {
   "display_name": "Python 3",
   "language": "python",
   "name": "python3"
  },
  "language_info": {
   "codemirror_mode": {
    "name": "ipython",
    "version": 3
   },
   "file_extension": ".py",
   "mimetype": "text/x-python",
   "name": "python",
   "nbconvert_exporter": "python",
   "pygments_lexer": "ipython3",
   "version": "3.9.4"
  }
 },
 "nbformat": 4,
 "nbformat_minor": 2
}
