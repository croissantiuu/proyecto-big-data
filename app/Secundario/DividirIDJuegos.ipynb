{
 "cells": [
  {
   "cell_type": "code",
   "execution_count": 1,
   "metadata": {},
   "outputs": [
    {
     "name": "stdout",
     "output_type": "stream",
     "text": [
      "Se han dividido y guardado las partes en 'Santi.csv', 'Roy.csv' y 'Adri.csv'.\n"
     ]
    },
    {
     "name": "stderr",
     "output_type": "stream",
     "text": [
      "C:\\Users\\oem\\AppData\\Local\\Temp\\ipykernel_4204\\2261459220.py:1: DeprecationWarning: \n",
      "Pyarrow will become a required dependency of pandas in the next major release of pandas (pandas 3.0),\n",
      "(to allow more performant data types, such as the Arrow string type, and better interoperability with other libraries)\n",
      "but was not found to be installed on your system.\n",
      "If this would cause problems for you,\n",
      "please provide us feedback at https://github.com/pandas-dev/pandas/issues/54466\n",
      "        \n",
      "  import pandas as pd\n"
     ]
    }
   ],
   "source": [
    "import pandas as pd\n",
    "\n",
    "# Cargar el archivo CSV de juegos sin repetir\n",
    "df_juegos_sin_repetir = pd.read_csv(\"C:/Users/oem/Videos/Steam Big Data 110324/proyecto-big-data/data/JuegosIDSinRepetir.csv\")\n",
    "\n",
    "# Dividir el DataFrame en tres partes iguales\n",
    "total_filas = len(df_juegos_sin_repetir)\n",
    "filas_por_parte = total_filas // 3\n",
    "\n",
    "# Crear las tres partes\n",
    "parte_1 = df_juegos_sin_repetir.iloc[:filas_por_parte]\n",
    "parte_2 = df_juegos_sin_repetir.iloc[filas_por_parte:filas_por_parte*2]\n",
    "parte_3 = df_juegos_sin_repetir.iloc[filas_por_parte*2:]\n",
    "\n",
    "# Guardar cada parte en un archivo CSV con nombres específicos\n",
    "parte_1.to_csv(\"Santi.csv\", index=False)\n",
    "parte_2.to_csv(\"Roy.csv\", index=False)\n",
    "parte_3.to_csv(\"Adri.csv\", index=False)\n",
    "\n",
    "print(\"Se han dividido y guardado las partes en 'Santi.csv', 'Roy.csv' y 'Adri.csv'.\")\n"
   ]
  }
 ],
 "metadata": {
  "kernelspec": {
   "display_name": "Python 3",
   "language": "python",
   "name": "python3"
  },
  "language_info": {
   "codemirror_mode": {
    "name": "ipython",
    "version": 3
   },
   "file_extension": ".py",
   "mimetype": "text/x-python",
   "name": "python",
   "nbconvert_exporter": "python",
   "pygments_lexer": "ipython3",
   "version": "3.11.8"
  }
 },
 "nbformat": 4,
 "nbformat_minor": 2
}
