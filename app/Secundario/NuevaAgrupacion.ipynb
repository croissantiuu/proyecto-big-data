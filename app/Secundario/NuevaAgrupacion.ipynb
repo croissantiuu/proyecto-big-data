{
 "cells": [
  {
   "cell_type": "code",
   "execution_count": 1,
   "metadata": {},
   "outputs": [
    {
     "name": "stdout",
     "output_type": "stream",
     "text": [
      "Se han guardado los IDs de juego sin repetir en 'JuegosIDSinRepetir.csv'.\n"
     ]
    },
    {
     "name": "stderr",
     "output_type": "stream",
     "text": [
      "C:\\Users\\oem\\AppData\\Local\\Temp\\ipykernel_23416\\4252447283.py:1: DeprecationWarning: \n",
      "Pyarrow will become a required dependency of pandas in the next major release of pandas (pandas 3.0),\n",
      "(to allow more performant data types, such as the Arrow string type, and better interoperability with other libraries)\n",
      "but was not found to be installed on your system.\n",
      "If this would cause problems for you,\n",
      "please provide us feedback at https://github.com/pandas-dev/pandas/issues/54466\n",
      "        \n",
      "  import pandas as pd\n"
     ]
    }
   ],
   "source": [
    "import pandas as pd\n",
    "\n",
    "# Cargar el archivo CSV\n",
    "df_csv = pd.read_csv(\"C:/Users/oem/Videos/Steam Big Data 110324/proyecto-big-data/data/respuestasA (2400-158113).csv\")\n",
    "\n",
    "# Obtener los IDs de juego sin repetir\n",
    "juegos_sin_repetir = df_csv['ID del juego'].unique()\n",
    "\n",
    "# Crear un DataFrame con los IDs sin repetir\n",
    "df_juegos_sin_repetir = pd.DataFrame(juegos_sin_repetir, columns=['ID del juego'])\n",
    "\n",
    "# Guardar en un nuevo archivo CSV\n",
    "df_juegos_sin_repetir.to_csv(\"JuegosIDSinRepetir.csv\", index=False)\n",
    "\n",
    "print(\"Se han guardado los IDs de juego sin repetir en 'JuegosIDSinRepetir.csv'.\")\n"
   ]
  }
 ],
 "metadata": {
  "kernelspec": {
   "display_name": "Python 3",
   "language": "python",
   "name": "python3"
  },
  "language_info": {
   "codemirror_mode": {
    "name": "ipython",
    "version": 3
   },
   "file_extension": ".py",
   "mimetype": "text/x-python",
   "name": "python",
   "nbconvert_exporter": "python",
   "pygments_lexer": "ipython3",
   "version": "3.11.8"
  }
 },
 "nbformat": 4,
 "nbformat_minor": 2
}
