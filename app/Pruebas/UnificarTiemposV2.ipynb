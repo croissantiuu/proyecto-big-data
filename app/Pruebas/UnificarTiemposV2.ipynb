{
 "cells": [
  {
   "cell_type": "code",
   "execution_count": 1,
   "metadata": {},
   "outputs": [
    {
     "name": "stderr",
     "output_type": "stream",
     "text": [
      "C:\\Users\\oem\\AppData\\Local\\Temp\\ipykernel_5992\\414654929.py:1: DeprecationWarning: \n",
      "Pyarrow will become a required dependency of pandas in the next major release of pandas (pandas 3.0),\n",
      "(to allow more performant data types, such as the Arrow string type, and better interoperability with other libraries)\n",
      "but was not found to be installed on your system.\n",
      "If this would cause problems for you,\n",
      "please provide us feedback at https://github.com/pandas-dev/pandas/issues/54466\n",
      "        \n",
      "  import pandas as pd\n"
     ]
    }
   ],
   "source": [
    "import pandas as pd\n",
    "\n",
    "# Cargar los archivos CSV en DataFrames\n",
    "full_df = pd.read_csv('C:/Users/oem/Videos/Steam Big Data 110324/proyecto-big-data/data/TagsConseguidos/new_dataframe_actual_datesfull_adri.csv')\n",
    "\n",
    "repeticiones_df = pd.read_csv('C:/Users/oem/Videos/Steam Big Data 110324/proyecto-big-data/data/Total de minutos jugados y jugadores/TotalDeMinutosJugadosPorjuegoYTotalDeJugadores.csv')\n",
    "\n",
    "# Realizar la unión basada en el ID del juego\n",
    "merged_df = pd.merge(full_df, repeticiones_df, on='ID del juego', how='left')\n",
    "\n",
    "# Reemplazar la columna \"Cantidad de descargas\" con la columna correspondiente de \"Repeticiones de juegos.csv\"\n",
    "merged_df['Cantidad de descargas'] = merged_df['Repeticiones']\n",
    "\n",
    "# Eliminar la columna \"Repeticiones\" si es necesario\n",
    "merged_df.drop(columns=['Repeticiones'], inplace=True)\n",
    "\n",
    "# Guardar el DataFrame modificado en un nuevo archivo CSV o sobrescribir el archivo original\n",
    "merged_df.to_csv('Full_modificado.csv', index=False)  # Cambia el nombre del archivo si es necesario\n"
   ]
  }
 ],
 "metadata": {
  "kernelspec": {
   "display_name": "Python 3",
   "language": "python",
   "name": "python3"
  },
  "language_info": {
   "codemirror_mode": {
    "name": "ipython",
    "version": 3
   },
   "file_extension": ".py",
   "mimetype": "text/x-python",
   "name": "python",
   "nbconvert_exporter": "python",
   "pygments_lexer": "ipython3",
   "version": "3.11.9"
  }
 },
 "nbformat": 4,
 "nbformat_minor": 2
}
