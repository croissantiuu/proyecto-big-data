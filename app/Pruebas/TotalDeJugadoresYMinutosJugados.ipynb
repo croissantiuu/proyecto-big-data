{
 "cells": [
  {
   "cell_type": "code",
   "execution_count": 1,
   "metadata": {},
   "outputs": [
    {
     "name": "stdout",
     "output_type": "stream",
     "text": [
      "Se ha creado el archivo AllGames.csv con éxito.\n"
     ]
    }
   ],
   "source": [
    "import csv\n",
    "from collections import Counter\n",
    "\n",
    "# Creamos un diccionario para almacenar las repeticiones de cada ID de juego\n",
    "repeticiones_juego = Counter()\n",
    "\n",
    "# Abrimos el archivo CSV y leemos los datos\n",
    "with open('C:/Users/oem/Videos/Steam Big Data 110324/proyecto-big-data/data/Principal/respuestas_A_modificado.csv', newline='', encoding='utf-8') as csvfile:\n",
    "    reader = csv.DictReader(csvfile)\n",
    "    for row in reader:\n",
    "        id_juego = row['ID del juego']\n",
    "        repeticiones_juego[id_juego] += 1\n",
    "\n",
    "# Escribimos los resultados en un nuevo archivo CSV\n",
    "with open('AllGames.csv', 'w', newline='', encoding='utf-8') as csvfile:\n",
    "    fieldnames = ['ID del juego', 'Repeticiones']\n",
    "    writer = csv.DictWriter(csvfile, fieldnames=fieldnames)\n",
    "\n",
    "    writer.writeheader()\n",
    "    for id_juego, repeticiones in repeticiones_juego.items():\n",
    "        writer.writerow({'ID del juego': id_juego, 'Repeticiones': repeticiones})\n",
    "\n",
    "print(\"Se ha creado el archivo AllGames.csv con éxito.\")\n"
   ]
  },
  {
   "cell_type": "code",
   "execution_count": 2,
   "metadata": {},
   "outputs": [
    {
     "name": "stdout",
     "output_type": "stream",
     "text": [
      "Se ha creado el archivo AllGames.csv con éxito.\n"
     ]
    }
   ],
   "source": [
    "import csv\n",
    "from collections import Counter\n",
    "\n",
    "# Creamos un diccionario para almacenar las repeticiones de cada ID de juego\n",
    "repeticiones_juego = Counter()\n",
    "# Creamos un diccionario para almacenar la suma total de minutos jugados por cada ID de juego\n",
    "suma_minutos_jugados = Counter()\n",
    "\n",
    "# Abrimos el archivo CSV y leemos los datos\n",
    "with open('C:/Users/oem/Videos/Steam Big Data 110324/proyecto-big-data/data/Principal/respuestas_A_modificado.csv', newline='', encoding='utf-8') as csvfile:\n",
    "    reader = csv.DictReader(csvfile)\n",
    "    for row in reader:\n",
    "        id_juego = row['ID del juego']\n",
    "        repeticiones_juego[id_juego] += 1\n",
    "        minutos_jugados = int(row['Minutos jugadas'])\n",
    "        suma_minutos_jugados[id_juego] += minutos_jugados\n",
    "\n",
    "# Escribimos los resultados en un nuevo archivo CSV\n",
    "with open('AllGames.csv', 'w', newline='', encoding='utf-8') as csvfile:\n",
    "    fieldnames = ['ID del juego', 'Repeticiones', 'Minutos Totales']\n",
    "    writer = csv.DictWriter(csvfile, fieldnames=fieldnames)\n",
    "\n",
    "    writer.writeheader()\n",
    "    for id_juego, repeticiones in repeticiones_juego.items():\n",
    "        minutos_totales = suma_minutos_jugados[id_juego]\n",
    "        writer.writerow({'ID del juego': id_juego, 'Repeticiones': repeticiones, 'Minutos Totales': minutos_totales})\n",
    "\n",
    "print(\"Se ha creado el archivo AllGames.csv con éxito.\")\n"
   ]
  },
  {
   "cell_type": "code",
   "execution_count": 7,
   "metadata": {},
   "outputs": [
    {
     "name": "stdout",
     "output_type": "stream",
     "text": [
      "Se ha creado el archivo TotalDeMinutosJugadosPorjuegoYTotalDeJugadores.csv con éxito.\n"
     ]
    }
   ],
   "source": [
    "#Mas eficiente ( Ejecutar este para tener todo )\n",
    "\n",
    "import csv\n",
    "\n",
    "# Diccionario para almacenar el recuento de repeticiones y la suma total de minutos jugados por cada ID de juego\n",
    "datos_juegos = {}\n",
    "\n",
    "# Abrimos el archivo CSV y leemos los datos\n",
    "with open('C:/Users/oem/Videos/Steam Big Data 110324/proyecto-big-data/data/Principal/respuestas_A_modificado.csv', newline='', encoding='utf-8') as csvfile:\n",
    "    reader = csv.DictReader(csvfile)\n",
    "    for row in reader:\n",
    "        id_juego = row['ID del juego']\n",
    "        minutos_jugados = int(row['Minutos jugadas'])\n",
    "        # Actualizamos los datos del juego en el diccionario\n",
    "        if id_juego in datos_juegos:\n",
    "            datos_juegos[id_juego]['repeticiones'] += 1\n",
    "            datos_juegos[id_juego]['minutos_totales'] += minutos_jugados\n",
    "        else:\n",
    "            datos_juegos[id_juego] = {'repeticiones': 1, 'minutos_totales': minutos_jugados}\n",
    "\n",
    "# Escribimos los resultados en un nuevo archivo CSV\n",
    "with open('TotalDeMinutosJugadosPorjuegoYTotalDeJugadores.csv', 'w', newline='', encoding='utf-8') as csvfile:\n",
    "    fieldnames = ['ID del juego', 'Repeticiones', 'Minutos Totales']\n",
    "    writer = csv.DictWriter(csvfile, fieldnames=fieldnames)\n",
    "\n",
    "    writer.writeheader()\n",
    "    for id_juego, datos in datos_juegos.items():\n",
    "        writer.writerow({'ID del juego': id_juego, 'Repeticiones': datos['repeticiones'], 'Minutos Totales': datos['minutos_totales']})\n",
    "\n",
    "print(\"Se ha creado el archivo TotalDeMinutosJugadosPorjuegoYTotalDeJugadores.csv con éxito.\")\n"
   ]
  }
 ],
 "metadata": {
  "kernelspec": {
   "display_name": "Python 3",
   "language": "python",
   "name": "python3"
  },
  "language_info": {
   "codemirror_mode": {
    "name": "ipython",
    "version": 3
   },
   "file_extension": ".py",
   "mimetype": "text/x-python",
   "name": "python",
   "nbconvert_exporter": "python",
   "pygments_lexer": "ipython3",
   "version": "3.11.9"
  }
 },
 "nbformat": 4,
 "nbformat_minor": 2
}
