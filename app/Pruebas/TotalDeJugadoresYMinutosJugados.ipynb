{
 "cells": [
  {
   "cell_type": "code",
   "execution_count": 5,
   "metadata": {},
   "outputs": [
    {
     "ename": "PermissionError",
     "evalue": "[Errno 13] Permission denied: 'C:/Users/rodri/Documents/Python/Proyecto Integrador Big Data/data/TagsConseguidos/new_dataframe_actual_full_roy.csv'",
     "output_type": "error",
     "traceback": [
      "\u001b[1;31m---------------------------------------------------------------------------\u001b[0m",
      "\u001b[1;31mPermissionError\u001b[0m                           Traceback (most recent call last)",
      "Input \u001b[1;32mIn [5]\u001b[0m, in \u001b[0;36m<cell line: 15>\u001b[1;34m()\u001b[0m\n\u001b[0;32m     12\u001b[0m         repeticiones_juego[id_juego] \u001b[38;5;241m+\u001b[39m\u001b[38;5;241m=\u001b[39m \u001b[38;5;241m1\u001b[39m\n\u001b[0;32m     14\u001b[0m \u001b[38;5;66;03m# Escribimos los resultados en un nuevo archivo CSV\u001b[39;00m\n\u001b[1;32m---> 15\u001b[0m \u001b[38;5;28;01mwith\u001b[39;00m \u001b[38;5;28;43mopen\u001b[39;49m\u001b[43m(\u001b[49m\u001b[38;5;124;43m'\u001b[39;49m\u001b[38;5;124;43mC:/Users/rodri/Documents/Python/Proyecto Integrador Big Data/data/TagsConseguidos/new_dataframe_actual_full_roy.csv\u001b[39;49m\u001b[38;5;124;43m'\u001b[39;49m\u001b[43m,\u001b[49m\u001b[43m \u001b[49m\u001b[38;5;124;43m'\u001b[39;49m\u001b[38;5;124;43mw\u001b[39;49m\u001b[38;5;124;43m'\u001b[39;49m\u001b[43m,\u001b[49m\u001b[43m \u001b[49m\u001b[43mnewline\u001b[49m\u001b[38;5;241;43m=\u001b[39;49m\u001b[38;5;124;43m'\u001b[39;49m\u001b[38;5;124;43m'\u001b[39;49m\u001b[43m,\u001b[49m\u001b[43m \u001b[49m\u001b[43mencoding\u001b[49m\u001b[38;5;241;43m=\u001b[39;49m\u001b[38;5;124;43m'\u001b[39;49m\u001b[38;5;124;43mutf-8\u001b[39;49m\u001b[38;5;124;43m'\u001b[39;49m\u001b[43m)\u001b[49m \u001b[38;5;28;01mas\u001b[39;00m csvfile:\n\u001b[0;32m     16\u001b[0m     fieldnames \u001b[38;5;241m=\u001b[39m [\u001b[38;5;124m'\u001b[39m\u001b[38;5;124mID del juego\u001b[39m\u001b[38;5;124m'\u001b[39m, \u001b[38;5;124m'\u001b[39m\u001b[38;5;124mRepeticiones\u001b[39m\u001b[38;5;124m'\u001b[39m]\n\u001b[0;32m     17\u001b[0m     writer \u001b[38;5;241m=\u001b[39m csv\u001b[38;5;241m.\u001b[39mDictWriter(csvfile, fieldnames\u001b[38;5;241m=\u001b[39mfieldnames)\n",
      "\u001b[1;31mPermissionError\u001b[0m: [Errno 13] Permission denied: 'C:/Users/rodri/Documents/Python/Proyecto Integrador Big Data/data/TagsConseguidos/new_dataframe_actual_full_roy.csv'"
     ]
    }
   ],
   "source": [
    "import csv\n",
    "from collections import Counter\n",
    "\n",
    "# Creamos un diccionario para almacenar las repeticiones de cada ID de juego\n",
    "repeticiones_juego = Counter()\n",
    "\n",
    "# Abrimos el archivo CSV y leemos los datos\n",
    "with open('C:/Users/rodri/Documents/Python/Proyecto Integrador Big Data/data/TagsConseguidos/new_dataframe_actual_full_roy.csv', newline='', encoding='utf-8') as csvfile:\n",
    "    reader = csv.DictReader(csvfile)\n",
    "    for row in reader:\n",
    "        id_juego = row['ID del juego']\n",
    "        repeticiones_juego[id_juego] += 1\n",
    "\n",
    "# Escribimos los resultados en un nuevo archivo CSV\n",
    "with open('C:/Users/rodri/Documents/Python/Proyecto Integrador Big Data/data/TagsConseguidos/new_dataframe_actual_full_roy.csv', 'w', newline='', encoding='utf-8') as csvfile:\n",
    "    fieldnames = ['ID del juego', 'Repeticiones']\n",
    "    writer = csv.DictWriter(csvfile, fieldnames=fieldnames)\n",
    "\n",
    "    writer.writeheader()\n",
    "    for id_juego, repeticiones in repeticiones_juego.items():\n",
    "        writer.writerow({'ID del juego': id_juego, 'Repeticiones': repeticiones})\n",
    "\n",
    "print(\"Se ha creado el archivo AllGames.csv con éxito.\")\n"
   ]
  },
  {
   "cell_type": "code",
   "execution_count": 4,
   "metadata": {},
   "outputs": [
    {
     "ename": "FileNotFoundError",
     "evalue": "[Errno 2] No such file or directory: 'C:/Users/oem/Videos/Steam Big Data 110324/proyecto-big-data/data/Principal/respuestas_A_modificado.csv'",
     "output_type": "error",
     "traceback": [
      "\u001b[1;31m---------------------------------------------------------------------------\u001b[0m",
      "\u001b[1;31mFileNotFoundError\u001b[0m                         Traceback (most recent call last)",
      "Input \u001b[1;32mIn [4]\u001b[0m, in \u001b[0;36m<cell line: 10>\u001b[1;34m()\u001b[0m\n\u001b[0;32m      7\u001b[0m suma_minutos_jugados \u001b[38;5;241m=\u001b[39m Counter()\n\u001b[0;32m      9\u001b[0m \u001b[38;5;66;03m# Abrimos el archivo CSV y leemos los datos\u001b[39;00m\n\u001b[1;32m---> 10\u001b[0m \u001b[38;5;28;01mwith\u001b[39;00m \u001b[38;5;28;43mopen\u001b[39;49m\u001b[43m(\u001b[49m\u001b[38;5;124;43m'\u001b[39;49m\u001b[38;5;124;43mC:/Users/oem/Videos/Steam Big Data 110324/proyecto-big-data/data/Principal/respuestas_A_modificado.csv\u001b[39;49m\u001b[38;5;124;43m'\u001b[39;49m\u001b[43m,\u001b[49m\u001b[43m \u001b[49m\u001b[43mnewline\u001b[49m\u001b[38;5;241;43m=\u001b[39;49m\u001b[38;5;124;43m'\u001b[39;49m\u001b[38;5;124;43m'\u001b[39;49m\u001b[43m,\u001b[49m\u001b[43m \u001b[49m\u001b[43mencoding\u001b[49m\u001b[38;5;241;43m=\u001b[39;49m\u001b[38;5;124;43m'\u001b[39;49m\u001b[38;5;124;43mutf-8\u001b[39;49m\u001b[38;5;124;43m'\u001b[39;49m\u001b[43m)\u001b[49m \u001b[38;5;28;01mas\u001b[39;00m csvfile:\n\u001b[0;32m     11\u001b[0m     reader \u001b[38;5;241m=\u001b[39m csv\u001b[38;5;241m.\u001b[39mDictReader(csvfile)\n\u001b[0;32m     12\u001b[0m     \u001b[38;5;28;01mfor\u001b[39;00m row \u001b[38;5;129;01min\u001b[39;00m reader:\n",
      "\u001b[1;31mFileNotFoundError\u001b[0m: [Errno 2] No such file or directory: 'C:/Users/oem/Videos/Steam Big Data 110324/proyecto-big-data/data/Principal/respuestas_A_modificado.csv'"
     ]
    }
   ],
   "source": [
    "import csv\n",
    "from collections import Counter\n",
    "\n",
    "# Creamos un diccionario para almacenar las repeticiones de cada ID de juego\n",
    "repeticiones_juego = Counter()\n",
    "# Creamos un diccionario para almacenar la suma total de minutos jugados por cada ID de juego\n",
    "suma_minutos_jugados = Counter()\n",
    "\n",
    "# Abrimos el archivo CSV y leemos los datos\n",
    "with open('C:/Users/oem/Videos/Steam Big Data 110324/proyecto-big-data/data/Principal/respuestas_A_modificado.csv', newline='', encoding='utf-8') as csvfile:\n",
    "    reader = csv.DictReader(csvfile)\n",
    "    for row in reader:\n",
    "        id_juego = row['ID del juego']\n",
    "        repeticiones_juego[id_juego] += 1\n",
    "        minutos_jugados = int(row['Minutos jugadas'])\n",
    "        suma_minutos_jugados[id_juego] += minutos_jugados\n",
    "\n",
    "# Escribimos los resultados en un nuevo archivo CSV\n",
    "with open('AllGames.csv', 'w', newline='', encoding='utf-8') as csvfile:\n",
    "    fieldnames = ['ID del juego', 'Repeticiones', 'Minutos Totales']\n",
    "    writer = csv.DictWriter(csvfile, fieldnames=fieldnames)\n",
    "\n",
    "    writer.writeheader()\n",
    "    for id_juego, repeticiones in repeticiones_juego.items():\n",
    "        minutos_totales = suma_minutos_jugados[id_juego]\n",
    "        writer.writerow({'ID del juego': id_juego, 'Repeticiones': repeticiones, 'Minutos Totales': minutos_totales})\n",
    "\n",
    "print(\"Se ha creado el archivo AllGames.csv con éxito.\")\n"
   ]
  },
  {
   "cell_type": "code",
   "execution_count": 6,
   "metadata": {},
   "outputs": [
    {
     "ename": "ValueError",
     "evalue": "invalid literal for int() with base 10: ''",
     "output_type": "error",
     "traceback": [
      "\u001b[1;31m---------------------------------------------------------------------------\u001b[0m",
      "\u001b[1;31mValueError\u001b[0m                                Traceback (most recent call last)",
      "Input \u001b[1;32mIn [6]\u001b[0m, in \u001b[0;36m<cell line: 9>\u001b[1;34m()\u001b[0m\n\u001b[0;32m     11\u001b[0m \u001b[38;5;28;01mfor\u001b[39;00m row \u001b[38;5;129;01min\u001b[39;00m reader:\n\u001b[0;32m     12\u001b[0m     id_juego \u001b[38;5;241m=\u001b[39m row[\u001b[38;5;124m'\u001b[39m\u001b[38;5;124mID del juego\u001b[39m\u001b[38;5;124m'\u001b[39m]\n\u001b[1;32m---> 13\u001b[0m     minutos_jugados \u001b[38;5;241m=\u001b[39m \u001b[38;5;28;43mint\u001b[39;49m\u001b[43m(\u001b[49m\u001b[43mrow\u001b[49m\u001b[43m[\u001b[49m\u001b[38;5;124;43m'\u001b[39;49m\u001b[38;5;124;43mMinutos jugadas\u001b[39;49m\u001b[38;5;124;43m'\u001b[39;49m\u001b[43m]\u001b[49m\u001b[43m)\u001b[49m\n\u001b[0;32m     14\u001b[0m     \u001b[38;5;66;03m# Actualizamos los datos del juego en el diccionario\u001b[39;00m\n\u001b[0;32m     15\u001b[0m     \u001b[38;5;28;01mif\u001b[39;00m id_juego \u001b[38;5;129;01min\u001b[39;00m datos_juegos:\n",
      "\u001b[1;31mValueError\u001b[0m: invalid literal for int() with base 10: ''"
     ]
    }
   ],
   "source": [
    "#Mas eficiente ( Ejecutar este para tener todo )\n",
    "\n",
    "import csv\n",
    "\n",
    "# Diccionario para almacenar el recuento de repeticiones y la suma total de minutos jugados por cada ID de juego\n",
    "datos_juegos = {}\n",
    "\n",
    "# Abrimos el archivo CSV y leemos los datos\n",
    "with open('C:/Users/rodri/Documents/Python/Proyecto Integrador Big Data/data/TagsConseguidos/new_dataframe_actual_full_roy.csv', newline='', encoding='utf-8') as csvfile:\n",
    "    reader = csv.DictReader(csvfile)\n",
    "    for row in reader:\n",
    "        id_juego = row['ID del juego']\n",
    "        minutos_jugados = int(row['Minutos jugadas'])\n",
    "        # Actualizamos los datos del juego en el diccionario\n",
    "        if id_juego in datos_juegos:\n",
    "            datos_juegos[id_juego]['repeticiones'] += 1\n",
    "            datos_juegos[id_juego]['minutos_totales'] += minutos_jugados\n",
    "        else:\n",
    "            datos_juegos[id_juego] = {'repeticiones': 1, 'minutos_totales': minutos_jugados}\n",
    "\n",
    "# Escribimos los resultados en un nuevo archivo CSV\n",
    "with open('C:/Users/rodri/Documents/Python/Proyecto Integrador Big Data/data/TagsConseguidos/minutos_jugados_roy.csv', 'w', newline='', encoding='utf-8') as csvfile:\n",
    "    fieldnames = ['ID del juego', 'Repeticiones', 'Minutos Totales']\n",
    "    writer = csv.DictWriter(csvfile, fieldnames=fieldnames)\n",
    "\n",
    "    writer.writeheader()\n",
    "    for id_juego, datos in datos_juegos.items():\n",
    "        writer.writerow({'ID del juego': id_juego, 'Repeticiones': datos['repeticiones'], 'Minutos Totales': datos['minutos_totales']})\n",
    "\n",
    "print(\"Se ha creado el archivo TotalDeMinutosJugadosPorjuegoYTotalDeJugadores.csv con éxito.\")\n"
   ]
  },
  {
   "cell_type": "code",
   "execution_count": 7,
   "metadata": {},
   "outputs": [
    {
     "ename": "NameError",
     "evalue": "name 'minutos_jugados' is not defined",
     "output_type": "error",
     "traceback": [
      "\u001b[1;31m---------------------------------------------------------------------------\u001b[0m",
      "\u001b[1;31mNameError\u001b[0m                                 Traceback (most recent call last)",
      "Input \u001b[1;32mIn [7]\u001b[0m, in \u001b[0;36m<cell line: 9>\u001b[1;34m()\u001b[0m\n\u001b[0;32m     19\u001b[0m         datos_juegos[id_juego][\u001b[38;5;124m'\u001b[39m\u001b[38;5;124mminutos_totales\u001b[39m\u001b[38;5;124m'\u001b[39m] \u001b[38;5;241m+\u001b[39m\u001b[38;5;241m=\u001b[39m minutos_jugados\n\u001b[0;32m     20\u001b[0m     \u001b[38;5;28;01melse\u001b[39;00m:\n\u001b[1;32m---> 21\u001b[0m         datos_juegos[id_juego] \u001b[38;5;241m=\u001b[39m {\u001b[38;5;124m'\u001b[39m\u001b[38;5;124mrepeticiones\u001b[39m\u001b[38;5;124m'\u001b[39m: \u001b[38;5;241m1\u001b[39m, \u001b[38;5;124m'\u001b[39m\u001b[38;5;124mminutos_totales\u001b[39m\u001b[38;5;124m'\u001b[39m: \u001b[43mminutos_jugados\u001b[49m}\n\u001b[0;32m     22\u001b[0m \u001b[38;5;28;01melse\u001b[39;00m:\n\u001b[0;32m     23\u001b[0m     \u001b[38;5;28mprint\u001b[39m(\u001b[38;5;124mf\u001b[39m\u001b[38;5;124m\"\u001b[39m\u001b[38;5;124mValor vacío encontrado en la fila para el juego con ID \u001b[39m\u001b[38;5;132;01m{\u001b[39;00mid_juego\u001b[38;5;132;01m}\u001b[39;00m\u001b[38;5;124m. Se omitirá.\u001b[39m\u001b[38;5;124m\"\u001b[39m)\n",
      "\u001b[1;31mNameError\u001b[0m: name 'minutos_jugados' is not defined"
     ]
    }
   ],
   "source": []
  }
 ],
 "metadata": {
  "kernelspec": {
   "display_name": "Python 3",
   "language": "python",
   "name": "python3"
  },
  "language_info": {
   "codemirror_mode": {
    "name": "ipython",
    "version": 3
   },
   "file_extension": ".py",
   "mimetype": "text/x-python",
   "name": "python",
   "nbconvert_exporter": "python",
   "pygments_lexer": "ipython3",
   "version": "3.10.2"
  }
 },
 "nbformat": 4,
 "nbformat_minor": 2
}
