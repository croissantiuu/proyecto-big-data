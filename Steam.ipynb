{
 "cells": [
  {
   "cell_type": "code",
   "execution_count": 1,
   "metadata": {},
   "outputs": [
    {
     "name": "stdout",
     "output_type": "stream",
     "text": [
      "Conexión exitosa. Aplicación Firebase inicializada correctamente.\n"
     ]
    }
   ],
   "source": [
    "import firebase_admin\n",
    "from firebase_admin import credentials\n",
    "\n",
    "# Carga las credenciales desde el archivo JSON\n",
    "cred = credentials.Certificate(\"C:/Users/oem/Videos/Steam Big Data 110324/proyecto-big-data/bigdata-videogames-firebase-adminsdk-zxmrf-0496fae5ff.json\")\n",
    "\n",
    "try:\n",
    "    # Inicializa la aplicación Firebase\n",
    "    firebase_admin.initialize_app(cred)\n",
    "    print(\"Conexión exitosa. Aplicación Firebase inicializada correctamente.\")\n",
    "except Exception as e:\n",
    "    print(f\"Error al inicializar la aplicación Firebase: {e}\")\n",
    "\n"
   ]
  }
 ],
 "metadata": {
  "kernelspec": {
   "display_name": "Python 3",
   "language": "python",
   "name": "python3"
  },
  "language_info": {
   "codemirror_mode": {
    "name": "ipython",
    "version": 3
   },
   "file_extension": ".py",
   "mimetype": "text/x-python",
   "name": "python",
   "nbconvert_exporter": "python",
   "pygments_lexer": "ipython3",
   "version": "3.11.8"
  }
 },
 "nbformat": 4,
 "nbformat_minor": 2
}
